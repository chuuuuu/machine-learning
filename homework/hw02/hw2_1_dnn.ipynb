{
  "nbformat": 4,
  "nbformat_minor": 0,
  "metadata": {
    "accelerator": "GPU",
    "colab": {
      "name": "hw2_1_dnn.ipynb",
      "provenance": [],
      "collapsed_sections": [],
      "toc_visible": true,
      "include_colab_link": true
    },
    "kernelspec": {
      "display_name": "Python 3",
      "name": "python3"
    }
  },
  "cells": [
    {
      "cell_type": "markdown",
      "metadata": {
        "id": "view-in-github",
        "colab_type": "text"
      },
      "source": [
        "<a href=\"https://colab.research.google.com/github/chuuuuu/machine_learning_2021/blob/main/homework/hw02/hw2_1_dnn.ipynb\" target=\"_parent\"><img src=\"https://colab.research.google.com/assets/colab-badge.svg\" alt=\"Open In Colab\"/></a>"
      ]
    },
    {
      "cell_type": "markdown",
      "metadata": {
        "id": "OYlaRwNu7ojq"
      },
      "source": [
        "# **Homework 2-1 Phoneme Classification**"
      ]
    },
    {
      "cell_type": "markdown",
      "metadata": {
        "id": "emUd7uS7crTz"
      },
      "source": [
        "## The DARPA TIMIT Acoustic-Phonetic Continuous Speech Corpus (TIMIT)\n",
        "The TIMIT corpus of reading speech has been designed to provide speech data for the acquisition of acoustic-phonetic knowledge and for the development and evaluation of automatic speech recognition systems.\n",
        "\n",
        "This homework is a multiclass classification task, \n",
        "we are going to train a deep neural network classifier to predict the phonemes for each frame from the speech corpus TIMIT.\n",
        "\n",
        "link: https://academictorrents.com/details/34e2b78745138186976cbc27939b1b34d18bd5b3"
      ]
    },
    {
      "cell_type": "markdown",
      "metadata": {
        "id": "FVqF2w3bFgJa"
      },
      "source": [
        "## Initialize"
      ]
    },
    {
      "cell_type": "code",
      "metadata": {
        "id": "EzNp7OuDFf0v"
      },
      "source": [
        "%reset -f"
      ],
      "execution_count": null,
      "outputs": []
    },
    {
      "cell_type": "markdown",
      "metadata": {
        "id": "KVUGfWTo7_Oj"
      },
      "source": [
        "## Download Data\n",
        "Download data from google drive, then unzip it.\n",
        "\n",
        "You should have `timit_11/train_11.npy`, `timit_11/train_label_11.npy`, and `timit_11/test_11.npy` after running this block.<br><br>\n",
        "`timit_11/`\n",
        "- `train_11.npy`: training data<br>\n",
        "- `train_label_11.npy`: training label<br>\n",
        "- `test_11.npy`:  testing data<br><br>\n",
        "\n",
        "**notes: if the google drive link is dead, you can download the data directly from Kaggle and upload it to the workspace**\n",
        "\n",
        "\n"
      ]
    },
    {
      "cell_type": "code",
      "metadata": {
        "colab": {
          "base_uri": "https://localhost:8080/"
        },
        "id": "OzkiMEcC3Foq",
        "outputId": "1bff8b1e-3370-4dfb-cf3f-f3711e40aa68"
      },
      "source": [
        "from os import path, makedirs\n",
        "from google.colab import drive\n",
        "\n",
        "drive.mount('/content/gdrive')\n",
        "WORKSPACE = 'gdrive/MyDrive/ColabNotebooks/HW2/HW2_1'\n",
        "\n",
        "if not path.exists(f'{WORKSPACE}/dataset'):\n",
        "  makedirs(f'{WORKSPACE}/dataset')\n",
        "  !gdown --id '1HPkcmQmFGu-3OknddKIa5dNDsR05lIQR' --output '{WORKSPACE}/data.zip'\n",
        "  !unzip '{WORKSPACE}/data.zip' -d '{WORKSPACE}/dataset'\n",
        "\n",
        "DATA_PATH = f'{WORKSPACE}/dataset/timit_11'"
      ],
      "execution_count": 2,
      "outputs": [
        {
          "output_type": "stream",
          "text": [
            "Mounted at /content/gdrive\n"
          ],
          "name": "stdout"
        }
      ]
    },
    {
      "cell_type": "markdown",
      "metadata": {
        "id": "_L_4anls8Drv"
      },
      "source": [
        "## Preparing Data\n",
        "Load the training and testing data from the `.npy` file (NumPy array)."
      ]
    },
    {
      "cell_type": "code",
      "metadata": {
        "id": "IJjLT8em-y9G"
      },
      "source": [
        "from sklearn import preprocessing\n",
        "import numpy as np\n",
        "import gc\n",
        "\n",
        "class DataManager():\n",
        "    def getTrainData(self):\n",
        "        print('Loading data ...')\n",
        "        \n",
        "        train = np.load(f'{DATA_PATH}/train_11.npy')\n",
        "        train_label = np.load(f'{DATA_PATH}/train_label_11.npy')\n",
        "        \n",
        "        # normalization\n",
        "        self.scaler = preprocessing.StandardScaler().fit(train)\n",
        "        train_scaled = self.scaler.transform(train)\n",
        "\n",
        "        # set loss_weighted, however, it make the result worse, so I cancel it.\n",
        "        train_label_int = train_label.astype(np.int)\n",
        "        label_num = max(train_label_int) - min(train_label_int) + 1 \n",
        "        loss_weights = [0] * label_num\n",
        "        for label in train_label_int:\n",
        "            loss_weights[label] += 1\n",
        "\n",
        "        for i in range(label_num):\n",
        "            loss_weights[i] = len(train_label_int) / loss_weights[i]\n",
        "\n",
        "        loss_weights_sum = sum(loss_weights)\n",
        "        for i in range(label_num):\n",
        "            # loss_weights[i] = loss_weights[i] / loss_weights_sum\n",
        "            loss_weights[i] = loss_weights[i] / loss_weights[i]\n",
        "\n",
        "        del train_label_int, train\n",
        "        gc.collect()\n",
        "\n",
        "        print('Size of training data: {}'.format(train_scaled.shape))\n",
        "\n",
        "        return train_scaled, train_label, loss_weights\n",
        "\n",
        "    def getTestData(self):\n",
        "        print('Loading data ...')\n",
        "\n",
        "        test = np.load(f'{DATA_PATH}/test_11.npy')\n",
        "        test_scaled = self.scaler.transform(test)\n",
        "\n",
        "        del test\n",
        "        gc.collect()\n",
        "\n",
        "        print('Size of testing data: {}'.format(test_scaled.shape))\n",
        "\n",
        "        return test_scaled\n",
        "\n",
        "dataManager = DataManager()"
      ],
      "execution_count": null,
      "outputs": []
    },
    {
      "cell_type": "markdown",
      "metadata": {
        "id": "mqvtgFoUizSO"
      },
      "source": [
        "## Configuration"
      ]
    },
    {
      "cell_type": "code",
      "metadata": {
        "id": "43WYVgAGiy3l"
      },
      "source": [
        "config = {\n",
        "    'BATCH_SIZE': 1024,\n",
        "    'INPUT_DIM': 429,\n",
        "    'OUTPUT_DIM': 39,\n",
        "    'NUM_EPOCH': 500,\n",
        "    # 'LEARNING_RATE': 0.0001,\n",
        "    'MODEL_PATH': './model.ckpt',\n",
        "    'MOMENTUM': 0.01,\n",
        "    'EARLY_STOP': 10,\n",
        "    'DROPOUT_PROB': 0.5,\n",
        "    'INPUT_DROPOUT_PROB': 0.2,\n",
        "    'TEST_SIZE': 0.1,\n",
        "    'WIGHT_DECAY': 0,\n",
        "    'NEGATIVE_SLOPE': 0.05\n",
        "}"
      ],
      "execution_count": null,
      "outputs": []
    },
    {
      "cell_type": "markdown",
      "metadata": {
        "id": "us5XW_x6udZQ"
      },
      "source": [
        "## Create Dataset"
      ]
    },
    {
      "cell_type": "code",
      "metadata": {
        "id": "Fjf5EcmJtf4e"
      },
      "source": [
        "import torch\n",
        "from torch.utils.data import Dataset\n",
        "\n",
        "class TIMITDataset(Dataset):\n",
        "    def __init__(self, X, y=None):\n",
        "        self.data = torch.from_numpy(X).float()\n",
        "        if y is not None:\n",
        "            y = y.astype(np.int)\n",
        "            self.label = torch.LongTensor(y)\n",
        "        else:\n",
        "            self.label = None\n",
        "\n",
        "    def __getitem__(self, idx):\n",
        "        if self.label is not None:\n",
        "            return self.data[idx], self.label[idx]\n",
        "        else:\n",
        "            return self.data[idx]\n",
        "\n",
        "    def __len__(self):\n",
        "        return len(self.data)\n"
      ],
      "execution_count": null,
      "outputs": []
    },
    {
      "cell_type": "markdown",
      "metadata": {
        "id": "otIC6WhGeh9v"
      },
      "source": [
        "Split the labeled data into a training set and a validation set, you can modify the variable `VAL_RATIO` to change the ratio of validation data."
      ]
    },
    {
      "cell_type": "code",
      "metadata": {
        "id": "dvEsNXH9fSJ5"
      },
      "source": [
        "from torch.utils.data import DataLoader\n",
        "from sklearn.model_selection import train_test_split\n",
        "\n",
        "def getTrainDataLoader():\n",
        "    # get data\n",
        "    train, train_label, loss_weights = dataManager.getTrainData()\n",
        "\n",
        "    # split data into training and validation\n",
        "    TEST_SIZE = config['TEST_SIZE']\n",
        "    train_x, val_x, train_y, val_y = train_test_split(train, train_label, test_size=TEST_SIZE, stratify=train_label, random_state=0)\n",
        "\n",
        "    print('Size of training set: {}'.format(train_x.shape))\n",
        "    print('Size of validation set: {}'.format(val_x.shape))\n",
        "    \n",
        "    # save memory\n",
        "    del train, train_label\n",
        "    gc.collect()\n",
        "\n",
        "    # create data loader\n",
        "    print('Creating data loader...')\n",
        "    BATCH_SIZE = config['BATCH_SIZE']\n",
        "    train_set = TIMITDataset(train_x, train_y)\n",
        "    val_set = TIMITDataset(val_x, val_y)\n",
        "    train_loader = DataLoader(train_set, batch_size=BATCH_SIZE, shuffle=True) #only shuffle the training data\n",
        "    val_loader = DataLoader(val_set, batch_size=BATCH_SIZE, shuffle=False)\n",
        "\n",
        "    # save memory\n",
        "    del train_x, train_y, val_x, val_y\n",
        "    gc.collect()\n",
        "\n",
        "    return train_set, val_set, train_loader, val_loader, loss_weights"
      ],
      "execution_count": null,
      "outputs": []
    },
    {
      "cell_type": "markdown",
      "metadata": {
        "id": "IRqKNvNZwe3V"
      },
      "source": [
        "## Create Model"
      ]
    },
    {
      "cell_type": "markdown",
      "metadata": {
        "id": "FYr1ng5fh9pA"
      },
      "source": [
        "Define model architecture, you are encouraged to change and experiment with the model architecture."
      ]
    },
    {
      "cell_type": "code",
      "metadata": {
        "id": "lbZrwT6Ny0XL"
      },
      "source": [
        "import torch\n",
        "import torch.nn as nn\n",
        "from torchsummary import summary\n",
        "\n",
        "\n",
        "class Classifier(nn.Module):\n",
        "    def __init__(self):\n",
        "        super(Classifier, self).__init__()\n",
        "\n",
        "        INPUT_DIM = config['INPUT_DIM']\n",
        "        OUTPUT_DIM = config['OUTPUT_DIM']\n",
        "        MOMENTUM = config['MOMENTUM']\n",
        "        DROPOUT_PROB = config['DROPOUT_PROB']\n",
        "        NEGATIVE_SLOPE = config['NEGATIVE_SLOPE']\n",
        "        # INPUT_DROPOUT_PROB = config['INPUT_DROPOUT_PROB']\n",
        "\n",
        "\n",
        "        self.layer1 = nn.Linear(INPUT_DIM, 2048)\n",
        "        self.bn1 = nn.BatchNorm1d(2048, momentum=MOMENTUM)\n",
        "        self.layer2 = nn.Linear(2048, 2048)\n",
        "        self.bn2 = nn.BatchNorm1d(2048, momentum=MOMENTUM)\n",
        "        self.layer3 = nn.Linear(2048, 2048)\n",
        "        self.bn3 = nn.BatchNorm1d(2048, momentum=MOMENTUM)\n",
        "        self.layer4 = nn.Linear(2048, 1024)\n",
        "        self.bn4 = nn.BatchNorm1d(1024, momentum=MOMENTUM)\n",
        "        self.layer5 = nn.Linear(1024, 512)\n",
        "        self.bn5 = nn.BatchNorm1d(512, momentum=MOMENTUM)\n",
        "        self.layer6 = nn.Linear(512, 128)\n",
        "        self.bn6 = nn.BatchNorm1d(128, momentum=MOMENTUM)\n",
        "        self.out = nn.Linear(128, OUTPUT_DIM) \n",
        "\n",
        "        self.act_fn = nn.LeakyReLU(negative_slope=NEGATIVE_SLOPE)\n",
        "        self.dropout = nn.Dropout(p=DROPOUT_PROB)\n",
        "        # self.input_dropout = nn.Dropout(p=INPUT_DROPOUT_PROB)\n",
        "\n",
        "    def forward(self, x):\n",
        "        # x = self.bn0(x)\n",
        "        # x = self.input_dropout(x)\n",
        "        \n",
        "        x = self.layer1(x)\n",
        "        x = self.act_fn(x)\n",
        "        x = self.bn1(x)\n",
        "        x = self.dropout(x)\n",
        "\n",
        "        x = self.layer2(x)\n",
        "        x = self.act_fn(x)\n",
        "        x = self.bn2(x)\n",
        "        x = self.dropout(x)\n",
        "\n",
        "        x = self.layer3(x)\n",
        "        x = self.act_fn(x)\n",
        "        x = self.bn3(x)\n",
        "        x = self.dropout(x)\n",
        "\n",
        "        x = self.layer4(x)\n",
        "        x = self.act_fn(x)\n",
        "        x = self.bn4(x)\n",
        "        x = self.dropout(x)\n",
        "\n",
        "        x = self.layer5(x)\n",
        "        x = self.act_fn(x)\n",
        "        x = self.bn5(x)\n",
        "        x = self.dropout(x)\n",
        "\n",
        "        x = self.layer6(x)\n",
        "        x = self.act_fn(x)\n",
        "        x = self.bn6(x)\n",
        "        x = self.dropout(x)\n",
        "\n",
        "        x = self.out(x)\n",
        "        \n",
        "        return x\n",
        "\n",
        "    def summary(self):\n",
        "        INPUT_DIM = config['INPUT_DIM']\n",
        "        summary(self, (INPUT_DIM, ))"
      ],
      "execution_count": null,
      "outputs": []
    },
    {
      "cell_type": "markdown",
      "metadata": {
        "id": "VRYciXZvPbYh"
      },
      "source": [
        "## Training"
      ]
    },
    {
      "cell_type": "code",
      "metadata": {
        "id": "y114Vmm3Ja6o"
      },
      "source": [
        "#check device\n",
        "def get_device():\n",
        "  return 'cuda' if torch.cuda.is_available() else 'cpu'"
      ],
      "execution_count": null,
      "outputs": []
    },
    {
      "cell_type": "markdown",
      "metadata": {
        "id": "sEX-yjHjhGuH"
      },
      "source": [
        "Fix random seeds for reproducibility."
      ]
    },
    {
      "cell_type": "code",
      "metadata": {
        "id": "88xPiUnm0tAd"
      },
      "source": [
        "# fix random seed\n",
        "def same_seeds(seed):\n",
        "    torch.manual_seed(seed)\n",
        "    if torch.cuda.is_available():\n",
        "        torch.cuda.manual_seed(seed)\n",
        "        torch.cuda.manual_seed_all(seed)  \n",
        "    np.random.seed(seed)  \n",
        "    torch.backends.cudnn.benchmark = False\n",
        "    torch.backends.cudnn.deterministic = True"
      ],
      "execution_count": null,
      "outputs": []
    },
    {
      "cell_type": "code",
      "metadata": {
        "id": "uzg8XKMTc7GU"
      },
      "source": [
        "from sklearn.metrics import confusion_matrix\n",
        "\n",
        "class Trainer():\n",
        "    def train(self):\n",
        "        # fix random seed for reproducibility\n",
        "        same_seeds(0)\n",
        "\n",
        "        # get device \n",
        "        device = get_device()\n",
        "        print(f'DEVICE: {device}')\n",
        "\n",
        "        # training parameters\n",
        "        NUM_EPOCH = config['NUM_EPOCH']               # number of training epoch\n",
        "        # LEARNING_RATE = config['LEARNING_RATE']       # learning rate\n",
        "        WIGHT_DECAY = config['WIGHT_DECAY']\n",
        "        EARLY_STOP = config['EARLY_STOP']\n",
        "        \n",
        "        # the path where checkpoint saved\n",
        "        MODEL_PATH = config['MODEL_PATH']\n",
        "\n",
        "        # load train data\n",
        "        train_set, val_set, train_loader, val_loader, loss_weights = getTrainDataLoader()\n",
        "\n",
        "        # create model, define a loss function, and optimizer\n",
        "        model = Classifier().to(device)\n",
        "        loss_weights = torch.FloatTensor(loss_weights).to(device)\n",
        "        criterion = nn.CrossEntropyLoss(weight = loss_weights)\n",
        "        optimizer = torch.optim.Adam(model.parameters(), weight_decay=WIGHT_DECAY)#, lr=LEARNING_RATE)\n",
        "\n",
        "        # start training\n",
        "        best_val_loss = float('inf')\n",
        "        best_val_acc = 0.0\n",
        "        best_train_loss = float('inf')\n",
        "        best_train_acc = 0.0\n",
        "        early_stop_count = 0\n",
        "        best_predict = []\n",
        "        best_true = []\n",
        "        for epoch in range(NUM_EPOCH):\n",
        "            train_acc = 0.0\n",
        "            train_loss = 0.0\n",
        "            val_acc = 0.0\n",
        "            val_loss = 0.0\n",
        "\n",
        "            # training\n",
        "            model.train() # set the model to training mode\n",
        "            for i, data in enumerate(train_loader):\n",
        "                inputs, labels = data\n",
        "                inputs, labels = inputs.to(device), labels.to(device)\n",
        "                optimizer.zero_grad() \n",
        "                outputs = model(inputs) \n",
        "                batch_loss = criterion(outputs, labels)\n",
        "                _, train_pred = torch.max(outputs, 1) # get the index of the class with the highest probability\n",
        "                batch_loss.backward() \n",
        "                optimizer.step() \n",
        "\n",
        "                train_acc += (train_pred.cpu() == labels.cpu()).sum().item()\n",
        "                train_loss += batch_loss.item()\n",
        "\n",
        "            # validation\n",
        "            if len(val_set) > 0:\n",
        "                predict = []\n",
        "                true = []\n",
        "                model.eval() # set the model to evaluation mode\n",
        "                with torch.no_grad():\n",
        "                    for i, data in enumerate(val_loader):\n",
        "                        inputs, labels = data\n",
        "                        inputs, labels = inputs.to(device), labels.to(device)\n",
        "                        outputs = model(inputs)\n",
        "                        batch_loss = criterion(outputs, labels) \n",
        "                        _, val_pred = torch.max(outputs, 1) \n",
        "                    \n",
        "                        val_acc += (val_pred.cpu() == labels.cpu()).sum().item() # get the index of the class with the highest probability\n",
        "                        val_loss += batch_loss.item()\n",
        "\n",
        "                        for label in labels.cpu().numpy():\n",
        "                            true.append(label)\n",
        "\n",
        "                        for y in val_pred.cpu().numpy():\n",
        "                            predict.append(y)\n",
        "\n",
        "\n",
        "                    print('[{:03d}/{:03d}] Train Acc: {:3.6f} Loss: {:3.6f} | Val Acc: {:3.6f} loss: {:3.6f}'.format(\n",
        "                        epoch + 1, NUM_EPOCH, train_acc/len(train_set), train_loss/len(train_loader), val_acc/len(val_set), val_loss/len(val_loader)\n",
        "                    ))\n",
        "\n",
        "                    # if the model improves, save a checkpoint at this epoch\n",
        "                    if best_val_acc < val_acc:\n",
        "                        early_stop_count = 0\n",
        "\n",
        "                        best_predict = predict\n",
        "                        best_true = true\n",
        "\n",
        "                        best_val_loss = val_loss\n",
        "                        best_val_acc = val_acc\n",
        "                        best_train_loss = train_loss\n",
        "                        best_train_acc = train_acc\n",
        "                        torch.save(model.state_dict(), MODEL_PATH)\n",
        "                        print('saving model with acc {:.3f}'.format(best_val_acc/len(val_set)))\n",
        "\n",
        "                    else:\n",
        "                        early_stop_count += 1\n",
        "\n",
        "                    if early_stop_count > EARLY_STOP:\n",
        "                        break\n",
        "            else:\n",
        "                print('[{:03d}/{:03d}] Train Acc: {:3.6f} Loss: {:3.6f}'.format(\n",
        "                    epoch + 1, NUM_EPOCH, train_acc/len(train_set), train_loss/len(train_loader)\n",
        "                ))\n",
        "\n",
        "        # if not validating, save the last epoch\n",
        "        cf_matrix = None\n",
        "        if len(val_set) == 0:\n",
        "            torch.save(model.state_dict(), MODEL_PATH)\n",
        "            print('saving model at last epoch')\n",
        "\n",
        "        else:\n",
        "            cf_matrix = confusion_matrix(best_true, best_predict)\n",
        "\n",
        "        # print model layers\n",
        "        model.summary()\n",
        "\n",
        "        return best_train_acc/len(train_set), best_val_acc/len(val_set), best_train_loss/len(train_loader), best_val_loss/len(val_loader), cf_matrix\n",
        "\n",
        "\n",
        "\n",
        "trainer = Trainer()"
      ],
      "execution_count": null,
      "outputs": []
    },
    {
      "cell_type": "code",
      "metadata": {
        "colab": {
          "base_uri": "https://localhost:8080/",
          "height": 691
        },
        "id": "wxrtwPiIfISL",
        "outputId": "81acf4e4-8e4b-4300-c636-fb5ca3c8cc0d"
      },
      "source": [
        "import sys\n",
        "\n",
        "best_train_acc, best_val_acc, best_train_loss, best_val_loss, cf_matrix = trainer.train()\n",
        "\n",
        "print(f'best_train_acc: {best_train_acc}')\n",
        "print(f'best_val_acc: {best_val_acc}')\n",
        "print(f'best_train_loss:{best_train_loss}')\n",
        "print(f'best_val_loss:{best_val_loss}')\n",
        "print(f'config: {config}')\n",
        "\n",
        "# np.savetxt(sys.stdout, cf_matrix, fmt=\"%i\")\n",
        "for i in range(len(cf_matrix)):\n",
        "    print(f'class {i} acc: {cf_matrix[i][i] / cf_matrix[i].sum()}')"
      ],
      "execution_count": null,
      "outputs": [
        {
          "output_type": "stream",
          "text": [
            "DEVICE: cuda\n",
            "Loading data ...\n",
            "Size of training data: (1229932, 429)\n",
            "Size of training set: (1106938, 429)\n",
            "Size of validation set: (122994, 429)\n",
            "Creating data loader...\n",
            "[001/500] Train Acc: 0.551582 Loss: 1.525035 | Val Acc: 0.656463 loss: 1.108217\n",
            "saving model with acc 0.656\n",
            "[002/500] Train Acc: 0.623703 Loss: 1.249208 | Val Acc: 0.686407 loss: 0.999687\n",
            "saving model with acc 0.686\n",
            "[003/500] Train Acc: 0.647274 Loss: 1.163949 | Val Acc: 0.704449 loss: 0.933587\n",
            "saving model with acc 0.704\n",
            "[004/500] Train Acc: 0.662385 Loss: 1.110684 | Val Acc: 0.712734 loss: 0.899050\n",
            "saving model with acc 0.713\n",
            "[005/500] Train Acc: 0.672117 Loss: 1.071853 | Val Acc: 0.725507 loss: 0.855089\n",
            "saving model with acc 0.726\n",
            "[006/500] Train Acc: 0.680608 Loss: 1.040708 | Val Acc: 0.733133 loss: 0.831106\n",
            "saving model with acc 0.733\n",
            "[007/500] Train Acc: 0.688454 Loss: 1.013860 | Val Acc: 0.739621 loss: 0.806041\n",
            "saving model with acc 0.740\n"
          ],
          "name": "stdout"
        },
        {
          "output_type": "error",
          "ename": "KeyboardInterrupt",
          "evalue": "ignored",
          "traceback": [
            "\u001b[0;31m---------------------------------------------------------------------------\u001b[0m",
            "\u001b[0;31mKeyboardInterrupt\u001b[0m                         Traceback (most recent call last)",
            "\u001b[0;32m<ipython-input-23-c07f38aa386f>\u001b[0m in \u001b[0;36m<module>\u001b[0;34m()\u001b[0m\n\u001b[1;32m      1\u001b[0m \u001b[0;32mimport\u001b[0m \u001b[0msys\u001b[0m\u001b[0;34m\u001b[0m\u001b[0;34m\u001b[0m\u001b[0m\n\u001b[1;32m      2\u001b[0m \u001b[0;34m\u001b[0m\u001b[0m\n\u001b[0;32m----> 3\u001b[0;31m \u001b[0mbest_train_acc\u001b[0m\u001b[0;34m,\u001b[0m \u001b[0mbest_val_acc\u001b[0m\u001b[0;34m,\u001b[0m \u001b[0mbest_train_loss\u001b[0m\u001b[0;34m,\u001b[0m \u001b[0mbest_val_loss\u001b[0m\u001b[0;34m,\u001b[0m \u001b[0mcf_matrix\u001b[0m \u001b[0;34m=\u001b[0m \u001b[0mtrainer\u001b[0m\u001b[0;34m.\u001b[0m\u001b[0mtrain\u001b[0m\u001b[0;34m(\u001b[0m\u001b[0;34m)\u001b[0m\u001b[0;34m\u001b[0m\u001b[0;34m\u001b[0m\u001b[0m\n\u001b[0m\u001b[1;32m      4\u001b[0m \u001b[0;34m\u001b[0m\u001b[0m\n\u001b[1;32m      5\u001b[0m \u001b[0mprint\u001b[0m\u001b[0;34m(\u001b[0m\u001b[0;34mf'best_train_acc: {best_train_acc}'\u001b[0m\u001b[0;34m)\u001b[0m\u001b[0;34m\u001b[0m\u001b[0;34m\u001b[0m\u001b[0m\n",
            "\u001b[0;32m<ipython-input-22-d17905c86035>\u001b[0m in \u001b[0;36mtrain\u001b[0;34m(self)\u001b[0m\n\u001b[1;32m     54\u001b[0m                 \u001b[0moptimizer\u001b[0m\u001b[0;34m.\u001b[0m\u001b[0mstep\u001b[0m\u001b[0;34m(\u001b[0m\u001b[0;34m)\u001b[0m\u001b[0;34m\u001b[0m\u001b[0;34m\u001b[0m\u001b[0m\n\u001b[1;32m     55\u001b[0m \u001b[0;34m\u001b[0m\u001b[0m\n\u001b[0;32m---> 56\u001b[0;31m                 \u001b[0mtrain_acc\u001b[0m \u001b[0;34m+=\u001b[0m \u001b[0;34m(\u001b[0m\u001b[0mtrain_pred\u001b[0m\u001b[0;34m.\u001b[0m\u001b[0mcpu\u001b[0m\u001b[0;34m(\u001b[0m\u001b[0;34m)\u001b[0m \u001b[0;34m==\u001b[0m \u001b[0mlabels\u001b[0m\u001b[0;34m.\u001b[0m\u001b[0mcpu\u001b[0m\u001b[0;34m(\u001b[0m\u001b[0;34m)\u001b[0m\u001b[0;34m)\u001b[0m\u001b[0;34m.\u001b[0m\u001b[0msum\u001b[0m\u001b[0;34m(\u001b[0m\u001b[0;34m)\u001b[0m\u001b[0;34m.\u001b[0m\u001b[0mitem\u001b[0m\u001b[0;34m(\u001b[0m\u001b[0;34m)\u001b[0m\u001b[0;34m\u001b[0m\u001b[0;34m\u001b[0m\u001b[0m\n\u001b[0m\u001b[1;32m     57\u001b[0m                 \u001b[0mtrain_loss\u001b[0m \u001b[0;34m+=\u001b[0m \u001b[0mbatch_loss\u001b[0m\u001b[0;34m.\u001b[0m\u001b[0mitem\u001b[0m\u001b[0;34m(\u001b[0m\u001b[0;34m)\u001b[0m\u001b[0;34m\u001b[0m\u001b[0;34m\u001b[0m\u001b[0m\n\u001b[1;32m     58\u001b[0m \u001b[0;34m\u001b[0m\u001b[0m\n",
            "\u001b[0;31mKeyboardInterrupt\u001b[0m: "
          ]
        }
      ]
    },
    {
      "cell_type": "markdown",
      "metadata": {
        "id": "1Hi7jTn3PX-m"
      },
      "source": [
        "## Testing"
      ]
    },
    {
      "cell_type": "markdown",
      "metadata": {
        "id": "NfUECMFCn5VG"
      },
      "source": [
        "Create a testing dataset, and load model from the saved checkpoint."
      ]
    },
    {
      "cell_type": "code",
      "metadata": {
        "id": "1PKjtAScPWtr"
      },
      "source": [
        "# create testing dataset\n",
        "BATCH_SIZE = config['BATCH_SIZE']\n",
        "MODEL_PATH = config['MODEL_PATH']\n",
        "test = dataManager.getTestData()\n",
        "test_set = TIMITDataset(test, None)\n",
        "test_loader = DataLoader(test_set, batch_size=BATCH_SIZE, shuffle=False)\n",
        "\n",
        "# create model and load weights from checkpoint\n",
        "device = get_device()\n",
        "model = Classifier().to(device)\n",
        "model.load_state_dict(torch.load(MODEL_PATH))\n",
        "\n",
        "# Make prediction.\n",
        "print('Predicting...')\n",
        "predict = []\n",
        "model.eval() # set the model to evaluation mode\n",
        "with torch.no_grad():\n",
        "    for i, data in enumerate(test_loader):\n",
        "        inputs = data\n",
        "        inputs = inputs.to(device)\n",
        "        outputs = model(inputs)\n",
        "        _, test_pred = torch.max(outputs, 1) # get the index of the class with the highest probability\n",
        "\n",
        "        for y in test_pred.cpu().numpy():\n",
        "            predict.append(y)\n",
        "\n",
        "# Write prediction to a CSV file.\n",
        "print('Saving...')\n",
        "with open('prediction.csv', 'w') as f:\n",
        "    f.write('Id,Class\\n')\n",
        "    for i, y in enumerate(predict):\n",
        "        f.write('{},{}\\n'.format(i, y))\n",
        "\n",
        "print('Finishing...')"
      ],
      "execution_count": null,
      "outputs": []
    },
    {
      "cell_type": "markdown",
      "metadata": {
        "id": "fL041GXw1kxJ"
      },
      "source": [
        "# Reference\n",
        "- https://colab.research.google.com/github/ga642381/ML2021-Spring/blob/main/HW02/HW02-1.ipynb"
      ]
    }
  ]
}